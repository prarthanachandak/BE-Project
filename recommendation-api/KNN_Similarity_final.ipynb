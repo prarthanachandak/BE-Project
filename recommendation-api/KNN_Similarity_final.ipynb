{
  "nbformat": 4,
  "nbformat_minor": 0,
  "metadata": {
    "colab": {
      "provenance": []
    },
    "kernelspec": {
      "name": "python3",
      "display_name": "Python 3"
    },
    "language_info": {
      "name": "python"
    }
  },
  "cells": [
    {
      "cell_type": "code",
      "execution_count": null,
      "metadata": {
        "id": "65kY70qDamYS"
      },
      "outputs": [],
      "source": []
    },
    {
      "cell_type": "code",
      "source": [
        "import pandas as pd\n",
        "from sklearn.neighbors import NearestNeighbors\n",
        "from sklearn.preprocessing import OneHotEncoder, StandardScaler\n",
        "from sklearn.feature_extraction.text import TfidfVectorizer\n",
        "from sklearn.metrics.pairwise import cosine_similarity\n",
        "\n",
        "# Load the dataset (currently from the Google Drive)\n",
        "data = pd.read_csv(\"https://raw.githubusercontent.com/archis-07/KNN_recommendation/main/Study_rooms_dataset_final.csv\")\n",
        "\n",
        "# Preprocessing the dataset (preprocessing already done in Excel)\n",
        "X = data[['Domain', 'Level of Study', 'Age', 'Reputation']]\n",
        "y = data['Recommended chat rooms']\n",
        "\n",
        "# Perform one-hot encoding for categorical variables\n",
        "onehot_encoder = OneHotEncoder(sparse=False, handle_unknown='ignore')\n",
        "X_encoded = onehot_encoder.fit_transform(X[['Domain', 'Level of Study']])\n",
        "\n",
        "# Scale numerical features\n",
        "scaler = StandardScaler()\n",
        "X_scaled = scaler.fit_transform(X[['Age', 'Reputation']])\n",
        "\n",
        "# Concatenate the encoded categorical features and scaled numerical features\n",
        "X_processed = pd.concat([pd.DataFrame(X_encoded), pd.DataFrame(X_scaled)], axis=1)\n",
        "\n",
        "# Create and fit the Nearest Neighbors model (model created)\n",
        "nn_model = NearestNeighbors(n_neighbors=20, metric='cosine')\n",
        "nn_model.fit(X_processed)\n",
        "\n",
        "# Function to recommend chat rooms (function that will be exposed for the API)\n",
        "def recommend_chat_rooms(domain, level_of_study, age, reputation):\n",
        "    # Check if the entered domain is in the dataset\n",
        "    if domain in data['Domain'].unique():\n",
        "        # Preprocess input\n",
        "        input_data = pd.DataFrame({'Domain': [domain],\n",
        "                                   'Level of Study': [level_of_study],\n",
        "                                   'Age': [age],\n",
        "                                   'Reputation': [reputation]})\n",
        "        \n",
        "        # Perform one-hot encoding for categorical variables\n",
        "        input_encoded = pd.DataFrame(onehot_encoder.transform(input_data[['Domain', 'Level of Study']]))\n",
        "        \n",
        "        # Scale numerical features\n",
        "        input_scaled = pd.DataFrame(scaler.transform(input_data[['Age', 'Reputation']]))\n",
        "        \n",
        "        # Concatenate the encoded categorical features and scaled numerical features\n",
        "        input_processed = pd.concat([input_encoded, input_scaled], axis=1)\n",
        "        \n",
        "        # Find the nearest neighbors\n",
        "        distances, indices = nn_model.kneighbors(input_processed)\n",
        "        \n",
        "        # Get the recommended chat rooms (excluding the input)\n",
        "        recommended_rooms = data.iloc[indices[0][1:]]['Recommended chat rooms'].values\n",
        "        \n",
        "    else:\n",
        "        # Create a TF-IDF vectorizer\n",
        "        vectorizer = TfidfVectorizer()\n",
        "        \n",
        "        # Fit and transform the domain column\n",
        "        domain_vectors = vectorizer.fit_transform(data['Domain'])\n",
        "        \n",
        "        # Transform the user-entered domain\n",
        "        user_domain = vectorizer.transform([domain])\n",
        "        \n",
        "        # Calculate cosine similarity between user domain and dataset domains\n",
        "        similarities = cosine_similarity(user_domain, domain_vectors)\n",
        "        \n",
        "        # Get indices of top similar domains\n",
        "        top_indices = similarities.argsort()[0][-20:][::-1]\n",
        "        \n",
        "        # Get recommended chat rooms based on similar domains\n",
        "        similar_rooms = data.iloc[top_indices]['Recommended chat rooms'].values\n",
        "        \n",
        "        recommended_rooms = []\n",
        "        \n",
        "        # Check if the similar rooms are related to the entered domain\n",
        "        for room in similar_rooms:\n",
        "            if domain.lower() in room.lower():\n",
        "                recommended_rooms.append(room)\n",
        "            \n",
        "            if len(recommended_rooms) >= 10:\n",
        "                break\n",
        "\n",
        "    return recommended_rooms[:10]\n",
        "\n",
        "# Example usage of recommend_chat_rooms function\n",
        "domain = input(\"Enter the domain: \")\n",
        "level_of_study = input(\"Enter the level of study: \")\n",
        "age = int(input(\"Enter age: \"))\n",
        "reputation = float(input(\"Enter reputation: \"))\n",
        "\n",
        "recommendations = recommend_chat_rooms(domain, level_of_study, age, reputation)\n",
        "print(\"Recommended Chat Rooms:\", recommendations)\n"
      ],
      "metadata": {
        "colab": {
          "base_uri": "https://localhost:8080/"
        },
        "id": "Az6gtGRsarcx",
        "outputId": "528597fb-d4d6-4a57-f066-4eb6a6797a0c"
      },
      "execution_count": 34,
      "outputs": [
        {
          "output_type": "stream",
          "name": "stderr",
          "text": [
            "/usr/local/lib/python3.10/dist-packages/sklearn/preprocessing/_encoders.py:868: FutureWarning: `sparse` was renamed to `sparse_output` in version 1.2 and will be removed in 1.4. `sparse_output` is ignored unless you leave `sparse` to its default value.\n",
            "  warnings.warn(\n"
          ]
        },
        {
          "output_type": "stream",
          "name": "stdout",
          "text": [
            "Enter the domain: analytics\n",
            "Enter the level of study: College\n",
            "Enter age: 19\n",
            "Enter reputation: 4\n",
            "Recommended Chat Rooms: [' Operations Analytics', ' Performance Measurement and Analytics', ' Operations Analytics', ' Machine Learning in Business Analytics', ' Financial Analytics', ' Big Data Analytics', ' Big Data Analytics', ' Risk Analytics', ' Supply Chain Analytics', ' Marketing Analytics']\n"
          ]
        }
      ]
    },
    {
      "cell_type": "code",
      "source": [
        "# Example usage of recommend_chat_rooms function\n",
        "domain = input(\"Enter the domain: \")\n",
        "level_of_study = input(\"Enter the level of study: \")\n",
        "age = int(input(\"Enter age: \"))\n",
        "reputation = input(\"Enter the ratings: \")\n",
        "\n",
        "recommendations = recommend_chat_rooms(domain, level_of_study, age, reputation)\n",
        "print(\"Recommended Chat Rooms:\", recommendations)"
      ],
      "metadata": {
        "colab": {
          "base_uri": "https://localhost:8080/"
        },
        "id": "dSZ5iaxMbFEI",
        "outputId": "5a926d00-6f39-4b1b-ee79-f5a4c37a9680"
      },
      "execution_count": 36,
      "outputs": [
        {
          "output_type": "stream",
          "name": "stdout",
          "text": [
            "Enter the domain: Data\n",
            "Enter the level of study: College\n",
            "Enter age: 19\n",
            "Enter the ratings: 4\n",
            "Recommended Chat Rooms: [' Data Visualization', ' Ethical Considerations in Data Science', ' Data Wrangling', ' Data Visualization', ' Ethical Considerations in Data Science', ' Big Data Analytics', ' Ethical Considerations in Data Science', ' Ethical Considerations in Data Science', ' Data Mining', ' Data Mining']\n"
          ]
        }
      ]
    }
  ]
}